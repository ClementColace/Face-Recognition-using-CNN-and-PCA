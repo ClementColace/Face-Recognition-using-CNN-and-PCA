{
 "cells": [
  {
   "cell_type": "code",
   "execution_count": 16,
   "metadata": {},
   "outputs": [],
   "source": [
    "import cv2\n",
    "import time\n",
    "import os\n",
    "import numpy as np\n",
    "import matplotlib.pyplot as plt\n",
    "import pickle\n",
    "from tensorflow.keras.preprocessing.image import ImageDataGenerator\n",
    "from keras.preprocessing import image\n",
    "from keras.models import Sequential\n",
    "from keras.layers import Convolution2D, MaxPool2D, Flatten, Dense\n"
   ]
  },
  {
   "cell_type": "code",
   "execution_count": 17,
   "metadata": {},
   "outputs": [],
   "source": [
    "\n",
    "base_test = \"base_test\"\n",
    "base_train = \"base_train\""
   ]
  },
  {
   "cell_type": "code",
   "execution_count": 18,
   "metadata": {},
   "outputs": [
    {
     "name": "stdout",
     "output_type": "stream",
     "text": [
      "Found 104 images belonging to 14 classes.\n"
     ]
    },
    {
     "name": "stdout",
     "output_type": "stream",
     "text": [
      "Found 104 images belonging to 14 classes.\n"
     ]
    },
    {
     "data": {
      "text/plain": [
       "{'1': 0,\n",
       " '10': 1,\n",
       " '11': 2,\n",
       " '12': 3,\n",
       " '13': 4,\n",
       " '14': 5,\n",
       " '2': 6,\n",
       " '3': 7,\n",
       " '4': 8,\n",
       " '5': 9,\n",
       " '6': 10,\n",
       " '7': 11,\n",
       " '8': 12,\n",
       " '9': 13}"
      ]
     },
     "execution_count": 18,
     "metadata": {},
     "output_type": "execute_result"
    }
   ],
   "source": [
    "train_datagen = ImageDataGenerator(\n",
    "    shear_range=0.1,\n",
    "    zoom_range=0.1,\n",
    "    horizontal_flip=True)\n",
    "\n",
    "test_datagen = ImageDataGenerator()\n",
    "\n",
    "\n",
    "training_set = train_datagen.flow_from_directory(\n",
    "        base_train,\n",
    "        target_size=(200, 200),\n",
    "        batch_size=32,\n",
    "        color_mode=\"grayscale\",\n",
    "        class_mode='categorical')\n",
    "\n",
    "\n",
    "test_set = test_datagen.flow_from_directory(\n",
    "        base_train,\n",
    "        target_size=(200, 200),\n",
    "        batch_size=32,\n",
    "        color_mode=\"grayscale\",\n",
    "        class_mode='categorical')\n",
    "\n",
    "\n",
    "test_set.class_indices"
   ]
  },
  {
   "cell_type": "code",
   "execution_count": 19,
   "metadata": {},
   "outputs": [
    {
     "name": "stdout",
     "output_type": "stream",
     "text": [
      "Mapping of Face and its ID {0: '1', 1: '10', 2: '11', 3: '12', 4: '13', 5: '14', 6: '2', 7: '3', 8: '4', 9: '5', 10: '6', 11: '7', 12: '8', 13: '9'}\n",
      "\n",
      " The Number of output neurons:  14\n"
     ]
    }
   ],
   "source": [
    "TrainClasses=training_set.class_indices\n",
    "\n",
    "ResultMap={}\n",
    "for faceValue,faceName in zip(TrainClasses.values(),TrainClasses.keys()):\n",
    "    ResultMap[faceValue]=faceName\n",
    "    \n",
    "with open(\"ResultsMap.pkl\", 'wb') as fileWriteStream:\n",
    "    pickle.dump(ResultMap, fileWriteStream)\n",
    "    \n",
    "\n",
    "print(\"Mapping of Face and its ID\",ResultMap)\n",
    "\n",
    "OutputNeurons=len(ResultMap)\n",
    "print('\\n The Number of output neurons: ', OutputNeurons)"
   ]
  },
  {
   "cell_type": "code",
   "execution_count": 20,
   "metadata": {},
   "outputs": [
    {
     "name": "stderr",
     "output_type": "stream",
     "text": [
      "c:\\Users\\cleme\\AppData\\Local\\Programs\\Python\\Python312\\Lib\\site-packages\\keras\\src\\layers\\convolutional\\base_conv.py:107: UserWarning: Do not pass an `input_shape`/`input_dim` argument to a layer. When using Sequential models, prefer using an `Input(shape)` object as the first layer in the model instead.\n",
      "  super().__init__(activity_regularizer=activity_regularizer, **kwargs)\n",
      "c:\\Users\\cleme\\AppData\\Local\\Programs\\Python\\Python312\\Lib\\site-packages\\keras\\src\\trainers\\data_adapters\\py_dataset_adapter.py:121: UserWarning: Your `PyDataset` class should call `super().__init__(**kwargs)` in its constructor. `**kwargs` can include `workers`, `use_multiprocessing`, `max_queue_size`. Do not pass these arguments to `fit()`, as they will be ignored.\n",
      "  self._warn_if_super_not_called()\n"
     ]
    },
    {
     "name": "stdout",
     "output_type": "stream",
     "text": [
      "Epoch 1/10\n",
      "\u001b[1m 4/30\u001b[0m \u001b[32m━━\u001b[0m\u001b[37m━━━━━━━━━━━━━━━━━━\u001b[0m \u001b[1m1:14\u001b[0m 3s/step - accuracy: 0.1035 - loss: 565.9609"
     ]
    },
    {
     "name": "stderr",
     "output_type": "stream",
     "text": [
      "c:\\Users\\cleme\\AppData\\Local\\Programs\\Python\\Python312\\Lib\\contextlib.py:158: UserWarning: Your input ran out of data; interrupting training. Make sure that your dataset or generator can generate at least `steps_per_epoch * epochs` batches. You may need to use the `.repeat()` function when building your dataset.\n",
      "  self.gen.throw(value)\n"
     ]
    },
    {
     "name": "stdout",
     "output_type": "stream",
     "text": [
      "\u001b[1m30/30\u001b[0m \u001b[32m━━━━━━━━━━━━━━━━━━━━\u001b[0m\u001b[37m\u001b[0m \u001b[1m33s\u001b[0m 941ms/step - accuracy: 0.1138 - loss: 731.7250 - val_accuracy: 0.0673 - val_loss: 110.2934\n",
      "Epoch 2/10\n",
      "\u001b[1m30/30\u001b[0m \u001b[32m━━━━━━━━━━━━━━━━━━━━\u001b[0m\u001b[37m\u001b[0m \u001b[1m25s\u001b[0m 809ms/step - accuracy: 0.1646 - loss: 13.2736 - val_accuracy: 0.2885 - val_loss: 2.5609\n",
      "Epoch 3/10\n",
      "\u001b[1m30/30\u001b[0m \u001b[32m━━━━━━━━━━━━━━━━━━━━\u001b[0m\u001b[37m\u001b[0m \u001b[1m27s\u001b[0m 773ms/step - accuracy: 0.2866 - loss: 2.4811 - val_accuracy: 0.3077 - val_loss: 2.3273\n",
      "Epoch 4/10\n",
      "\u001b[1m30/30\u001b[0m \u001b[32m━━━━━━━━━━━━━━━━━━━━\u001b[0m\u001b[37m\u001b[0m \u001b[1m26s\u001b[0m 744ms/step - accuracy: 0.3786 - loss: 2.0606 - val_accuracy: 0.6442 - val_loss: 1.3374\n",
      "Epoch 5/10\n",
      "\u001b[1m30/30\u001b[0m \u001b[32m━━━━━━━━━━━━━━━━━━━━\u001b[0m\u001b[37m\u001b[0m \u001b[1m25s\u001b[0m 709ms/step - accuracy: 0.5493 - loss: 1.5105 - val_accuracy: 0.7692 - val_loss: 0.6742\n",
      "Epoch 6/10\n",
      "\u001b[1m30/30\u001b[0m \u001b[32m━━━━━━━━━━━━━━━━━━━━\u001b[0m\u001b[37m\u001b[0m \u001b[1m26s\u001b[0m 855ms/step - accuracy: 0.6941 - loss: 0.8409 - val_accuracy: 0.8365 - val_loss: 0.5230\n",
      "Epoch 7/10\n",
      "\u001b[1m30/30\u001b[0m \u001b[32m━━━━━━━━━━━━━━━━━━━━\u001b[0m\u001b[37m\u001b[0m \u001b[1m26s\u001b[0m 753ms/step - accuracy: 0.7852 - loss: 0.6476 - val_accuracy: 0.9423 - val_loss: 0.1783\n",
      "Epoch 8/10\n",
      "\u001b[1m30/30\u001b[0m \u001b[32m━━━━━━━━━━━━━━━━━━━━\u001b[0m\u001b[37m\u001b[0m \u001b[1m27s\u001b[0m 878ms/step - accuracy: 0.8614 - loss: 0.4404 - val_accuracy: 0.9327 - val_loss: 0.2296\n",
      "Epoch 9/10\n",
      "\u001b[1m30/30\u001b[0m \u001b[32m━━━━━━━━━━━━━━━━━━━━\u001b[0m\u001b[37m\u001b[0m \u001b[1m25s\u001b[0m 721ms/step - accuracy: 0.8100 - loss: 0.5202 - val_accuracy: 0.9327 - val_loss: 0.2244\n",
      "Epoch 10/10\n",
      "\u001b[1m30/30\u001b[0m \u001b[32m━━━━━━━━━━━━━━━━━━━━\u001b[0m\u001b[37m\u001b[0m \u001b[1m25s\u001b[0m 724ms/step - accuracy: 0.8685 - loss: 0.3709 - val_accuracy: 0.9808 - val_loss: 0.0312\n",
      "###### Total Time Taken:  5 Minutes ######\n"
     ]
    }
   ],
   "source": [
    "classifier= Sequential()\n",
    "\n",
    "classifier.add(Convolution2D(\n",
    "    32,\n",
    "    kernel_size=(5, 5),\n",
    "    strides=(1, 1),\n",
    "    input_shape=(200,200,1),\n",
    "    activation='relu'))\n",
    " \n",
    "classifier.add(MaxPool2D(pool_size=(2,2)))\n",
    "\n",
    "classifier.add(Convolution2D(\n",
    "    64,\n",
    "    kernel_size=(5, 5),\n",
    "    strides=(1, 1),\n",
    "    activation='relu'))\n",
    "\n",
    "classifier.add(MaxPool2D(pool_size=(2,2)))\n",
    "\n",
    "\n",
    "classifier.add(Flatten())\n",
    "\n",
    "classifier.add(Dense(64, activation='relu'))\n",
    "\n",
    "classifier.add(Dense(OutputNeurons, activation='softmax'))\n",
    "\n",
    "classifier.compile(\n",
    "    loss='categorical_crossentropy',\n",
    "    optimizer = 'adam',\n",
    "    metrics=[\"accuracy\"])\n",
    "\n",
    "\n",
    "StartTime=time.time()\n",
    "\n",
    "\n",
    "classifier.fit(\n",
    "                    training_set,\n",
    "                    steps_per_epoch=30,\n",
    "                    epochs=10,\n",
    "                    validation_data=test_set,\n",
    "                    validation_steps=10)\n",
    "\n",
    "EndTime=time.time()\n",
    "\n",
    "print(\"###### Total Time Taken: \", round((EndTime-StartTime)/60), 'Minutes ######')\n"
   ]
  },
  {
   "cell_type": "code",
   "execution_count": 21,
   "metadata": {},
   "outputs": [
    {
     "name": "stdout",
     "output_type": "stream",
     "text": [
      "85.71% de réussite !\n"
     ]
    }
   ],
   "source": [
    "\n",
    "total = 0\n",
    "corect = 0\n",
    "\n",
    "cara_list = [str(i) for i in range(1, 15)]\n",
    "mat_conf = np.zeros((len(cara_list), len(cara_list)))\n",
    "taille = 3\n",
    "\n",
    "for folder in os.listdir(base_test):\n",
    "    L = os.scandir(base_test + \"/\" + folder)\n",
    "    for img in L:\n",
    "        ImagePath = base_test + \"/\" + folder + \"/\" + img.name\n",
    "        total += 1\n",
    "        test_image=image.load_img(ImagePath,target_size=(200, 200), color_mode=\"grayscale\")\n",
    "        test_image=image.img_to_array(test_image)\n",
    " \n",
    "        test_image=np.expand_dims(test_image,axis=0)\n",
    " \n",
    "        result=classifier.predict(test_image,verbose=0)\n",
    "        if ResultMap[np.argmax(result)] == folder:\n",
    "            corect += 1\n",
    "        mat_conf[cara_list.index(folder)][cara_list.index(ResultMap[np.argmax(result)])] += 1/taille\n",
    "\n",
    "\n",
    "print(str(np.round(corect/total*100, 2)) + \"%\" + \" de réussite !\")"
   ]
  },
  {
   "cell_type": "code",
   "execution_count": 22,
   "metadata": {},
   "outputs": [
    {
     "data": {
      "image/png": "[encoded data removed]",
      "text/plain": [
       "<Figure size 640x480 with 2 Axes>"
      ]
     },
     "metadata": {},
     "output_type": "display_data"
    }
   ],
   "source": [
    "\n",
    "label = [i for i in cara_list]\n",
    "\n",
    "fig = plt.figure()\n",
    "ax = fig.add_subplot(111)\n",
    "cax = ax.matshow(mat_conf)\n",
    "fig.colorbar(cax)\n",
    "xaxis = np.arange(len(label))\n",
    "ax.set_xticks(xaxis)\n",
    "ax.set_yticks(xaxis)\n",
    "ax.set_xticklabels(label)\n",
    "ax.set_yticklabels(label)\n",
    "plt.show()"
   ]
  }
 ],
 "metadata": {
  "kernelspec": {
   "display_name": "Python 3",
   "language": "python",
   "name": "python3"
  },
  "language_info": {
   "codemirror_mode": {
    "name": "ipython",
    "version": 3
   },
   "file_extension": ".py",
   "mimetype": "text/x-python",
   "name": "python",
   "nbconvert_exporter": "python",
   "pygments_lexer": "ipython3",
   "version": "3.12.2"
  }
 },
 "nbformat": 4,
 "nbformat_minor": 2
}
